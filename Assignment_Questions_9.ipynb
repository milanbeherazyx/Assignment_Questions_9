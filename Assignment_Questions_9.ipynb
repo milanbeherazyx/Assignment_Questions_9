{
  "nbformat": 4,
  "nbformat_minor": 0,
  "metadata": {
    "colab": {
      "provenance": []
    },
    "kernelspec": {
      "name": "python3",
      "display_name": "Python 3"
    },
    "language_info": {
      "name": "python"
    }
  },
  "cells": [
    {
      "cell_type": "markdown",
      "source": [
        "1.Given a 1-indexed array of integers numbers that are already sorted in non-decreasing order, find two numbers such that they add up to a specific target number. Let these two numbers be numbers[index1] and numbers[index2] where 1 <= index1 < index2 < numbers.length.\n",
        "Return the indices of the two numbers, index1, and index2, added by one as an integer array [index1, index2] of length 2.\n",
        "The tests are generated such that there is exactly one solution. You may not use the same element twice.\n",
        "Your solution must use only constant extra space.\n",
        "Input: numbers = [2,7,11,15], target = 9\n",
        "Output: [1,2]\n",
        "Explanation: The sum of 2 and 7 is 9. Therefore, index1 = 1, index2 = 2. We return [1, 2].\n"
      ],
      "metadata": {
        "id": "VdlhelgyiZ0h"
      }
    },
    {
      "cell_type": "code",
      "source": [
        "def two_sum_sorted(numbers, target):\n",
        "    index1 = 0\n",
        "    index2 = len(numbers) - 1\n",
        "\n",
        "    while index1 < index2:\n",
        "        sum_two_numbers = numbers[index1] + numbers[index2]\n",
        "\n",
        "        if sum_two_numbers == target:\n",
        "            return [index1 + 1, index2 + 1]  # Adding 1 to convert from 0-based index to 1-based index\n",
        "\n",
        "        if sum_two_numbers > target:\n",
        "            index2 -= 1\n",
        "        else:\n",
        "            index1 += 1\n",
        "\n",
        "    # It is guaranteed that there is exactly one solution, so we don't need additional error handling.\n",
        "\n",
        "# Test case\n",
        "numbers = [2, 7, 11, 15]\n",
        "target = 9\n",
        "result = two_sum_sorted(numbers, target)\n",
        "print(result)"
      ],
      "metadata": {
        "colab": {
          "base_uri": "https://localhost:8080/"
        },
        "id": "TKRMTclYiaLP",
        "outputId": "aceeb9d7-4eb7-4d08-d68a-7115da30d029"
      },
      "execution_count": 1,
      "outputs": [
        {
          "output_type": "stream",
          "name": "stdout",
          "text": [
            "[1, 2]\n"
          ]
        }
      ]
    },
    {
      "cell_type": "markdown",
      "source": [
        "2.Given an array of integer nums sorted in non-decreasing order, find the starting and ending position of a given target value.\n",
        "If the target is not found in the array, return [-1, -1].\n",
        "You must write an algorithm with O(log n) runtime complexity\n",
        "Input: nums = [5,7,7,8,8,10], target = 8\n",
        "Output: [3,4]"
      ],
      "metadata": {
        "id": "o7vHYgCHiqOV"
      }
    },
    {
      "cell_type": "code",
      "source": [
        "def searchRange(nums, target):\n",
        "    def binary_search_left(nums, target):\n",
        "        left, right = 0, len(nums) - 1\n",
        "        while left <= right:\n",
        "            mid = left + (right - left) // 2\n",
        "            if nums[mid] < target:\n",
        "                left = mid + 1\n",
        "            else:\n",
        "                right = mid - 1\n",
        "        return left\n",
        "\n",
        "    def binary_search_right(nums, target):\n",
        "        left, right = 0, len(nums) - 1\n",
        "        while left <= right:\n",
        "            mid = left + (right - left) // 2\n",
        "            if nums[mid] <= target:\n",
        "                left = mid + 1\n",
        "            else:\n",
        "                right = mid - 1\n",
        "        return right\n",
        "\n",
        "    left_idx = binary_search_left(nums, target)\n",
        "    right_idx = binary_search_right(nums, target)\n",
        "\n",
        "    if left_idx <= right_idx:\n",
        "        return [left_idx, right_idx]\n",
        "    else:\n",
        "        return [-1, -1]\n",
        "\n",
        "# Test case\n",
        "nums = [5, 7, 7, 8, 8, 10]\n",
        "target = 8\n",
        "result = searchRange(nums, target)\n",
        "print(result)"
      ],
      "metadata": {
        "colab": {
          "base_uri": "https://localhost:8080/"
        },
        "id": "VN4ji2_3imYa",
        "outputId": "7425b467-42a4-4e3a-b298-bd88a08d72f6"
      },
      "execution_count": 3,
      "outputs": [
        {
          "output_type": "stream",
          "name": "stdout",
          "text": [
            "[3, 4]\n"
          ]
        }
      ]
    },
    {
      "cell_type": "markdown",
      "source": [
        "3.A peak element is an element that is strictly greater than its neighbors.\n",
        "Given a 0-indexed integer array nums, find a peak element, and return its index. If the array contains multiple peaks, return the index to any of the peaks.\n",
        "You may imagine that nums[-1] = nums[n] = -∞. In other words, an element is always considered to be strictly greater than a neighbor that is outside the array.\n",
        "You must write an algorithm that runs in O(log n) time.\n",
        "Input: nums = [1,2,3,1]\n",
        "Output: 2\n",
        "Explanation: 3 is a peak element and your function should return the index number 2."
      ],
      "metadata": {
        "id": "o1vCYHJWi58-"
      }
    },
    {
      "cell_type": "code",
      "source": [
        "def findPeakElement(nums):\n",
        "    left, right = 0, len(nums) - 1\n",
        "\n",
        "    while left < right:\n",
        "        mid = left + (right - left) // 2\n",
        "\n",
        "        # Check if the middle element is not a peak and move towards the direction of the greater neighbor\n",
        "        if nums[mid] < nums[mid + 1]:\n",
        "            left = mid + 1\n",
        "        else:\n",
        "            right = mid\n",
        "\n",
        "    return left\n",
        "\n",
        "# Test case\n",
        "nums = [1, 2, 3, 1]\n",
        "result = findPeakElement(nums)\n",
        "print(result)  # Output: 2"
      ],
      "metadata": {
        "colab": {
          "base_uri": "https://localhost:8080/"
        },
        "id": "eDOFxFupi0E3",
        "outputId": "d18f953c-17e9-4283-e654-2281771ba582"
      },
      "execution_count": 4,
      "outputs": [
        {
          "output_type": "stream",
          "name": "stdout",
          "text": [
            "2\n"
          ]
        }
      ]
    },
    {
      "cell_type": "markdown",
      "source": [
        "4.Given a sorted array of distinct integers and a target value, return the index if the target is found. If not, return the index where it would be if it were inserted in order.\n",
        "You must write an algorithm with O(log n) runtime complexity.\n",
        "Input: nums = [1,3,5,6], target = 5\n",
        "Output: 2\n",
        "\n",
        "Input: nums = [1,3,5,6], target = 7\n",
        "Output: 4"
      ],
      "metadata": {
        "id": "LNXOvd9hjAvY"
      }
    },
    {
      "cell_type": "code",
      "source": [
        "def searchInsert(nums, target):\n",
        "    left, right = 0, len(nums) - 1\n",
        "\n",
        "    while left <= right:\n",
        "        mid = left + (right - left) // 2\n",
        "\n",
        "        if nums[mid] == target:\n",
        "            return mid\n",
        "        elif nums[mid] < target:\n",
        "            left = mid + 1\n",
        "        else:\n",
        "            right = mid - 1\n",
        "\n",
        "    # When the loop exits, the target is not found in the array.\n",
        "    # At this point, 'left' will be the index where the target would be inserted.\n",
        "    return left\n",
        "\n",
        "# Test cases\n",
        "nums1 = [1, 3, 5, 6]\n",
        "target1 = 5\n",
        "print(searchInsert(nums1, target1))\n",
        "\n",
        "nums2 = [1, 3, 5, 6]\n",
        "target2 = 7\n",
        "print(searchInsert(nums2, target2))"
      ],
      "metadata": {
        "colab": {
          "base_uri": "https://localhost:8080/"
        },
        "id": "82uwt4R3i89t",
        "outputId": "30f8cb81-ac69-4166-97e6-715aaacc6e8f"
      },
      "execution_count": 6,
      "outputs": [
        {
          "output_type": "stream",
          "name": "stdout",
          "text": [
            "2\n",
            "4\n"
          ]
        }
      ]
    },
    {
      "cell_type": "markdown",
      "source": [
        "5.Find the majority element in the array. A majority element in an array A[] of size n is an element that appears more than n/2 times (and hence there is at most one such element).\n",
        "Input: A[]={3, 3, 4, 2, 4, 4, 2, 4, 4}\n",
        "Output: 4\n",
        "Explanation: The frequency of 4 is 5 which is greater than half of the size of the array size."
      ],
      "metadata": {
        "id": "ppgPg4T7jQxQ"
      }
    },
    {
      "cell_type": "code",
      "source": [
        "def findMajorityElement(nums):\n",
        "    candidate = None\n",
        "    count = 0\n",
        "\n",
        "    for num in nums:\n",
        "        if count == 0:\n",
        "            candidate = num\n",
        "            count = 1\n",
        "        elif num == candidate:\n",
        "            count += 1\n",
        "        else:\n",
        "            count -= 1\n",
        "\n",
        "    # Now 'candidate' holds the potential majority element.\n",
        "    # We need to verify if it occurs more than n/2 times in the array.\n",
        "\n",
        "    count = 0\n",
        "    for num in nums:\n",
        "        if num == candidate:\n",
        "            count += 1\n",
        "\n",
        "    if count > len(nums) // 2:\n",
        "        return candidate\n",
        "    else:\n",
        "        return None  # No majority element found\n",
        "\n",
        "# Test case\n",
        "A = [3, 3, 4, 2, 4, 4, 2, 4, 4]\n",
        "result = findMajorityElement(A)\n",
        "print(result)"
      ],
      "metadata": {
        "colab": {
          "base_uri": "https://localhost:8080/"
        },
        "id": "2ICr35tjjDkm",
        "outputId": "6b001959-f543-4ea2-d3ca-442c117f823f"
      },
      "execution_count": 7,
      "outputs": [
        {
          "output_type": "stream",
          "name": "stdout",
          "text": [
            "4\n"
          ]
        }
      ]
    },
    {
      "cell_type": "markdown",
      "source": [
        "6.You are a product manager and currently leading a team to develop a new product. Unfortunately, the latest version of your product fails the quality check. Since each version is developed based on the previous version, all the versions after a bad version are also bad.\n",
        "Suppose you have n versions [1, 2, ..., n] and you want to find out the first bad one, which causes all the following ones to be bad.\n",
        "You are given an API bool isBadVersion(version) which returns whether the version is bad. Implement a function to find the first bad version. You should minimize the number of calls to the API.\n",
        "Input: n = 5, bad = 4\n",
        "Output: 4\n",
        "Explanation:\n",
        "call isBadVersion(3) -> false\n",
        "call isBadVersion(5) -> true\n",
        "call isBadVersion(4) -> true\n",
        "Then 4 is the first bad version.\n"
      ],
      "metadata": {
        "id": "jVlMLIB1jZnX"
      }
    },
    {
      "cell_type": "code",
      "source": [
        "def isBadVersion(version):\n",
        "    # This is the API function provided by the system to check if a version is bad or not.\n",
        "    # It returns True if the version is bad and False otherwise.\n",
        "    pass\n",
        "\n",
        "def firstBadVersion(n):\n",
        "    left, right = 1, n\n",
        "\n",
        "    while left < right:\n",
        "        mid = left + (right - left) // 2\n",
        "\n",
        "        if isBadVersion(mid):\n",
        "            right = mid\n",
        "        else:\n",
        "            left = mid + 1\n",
        "\n",
        "    return left\n",
        "\n",
        "# Test case\n",
        "n = 5\n",
        "bad_version = 4\n",
        "result = firstBadVersion(n)\n",
        "print(result)"
      ],
      "metadata": {
        "colab": {
          "base_uri": "https://localhost:8080/"
        },
        "id": "U7G0r5zajUy1",
        "outputId": "407ca3ed-b832-4ff4-be21-89b25847ec67"
      },
      "execution_count": 8,
      "outputs": [
        {
          "output_type": "stream",
          "name": "stdout",
          "text": [
            "5\n"
          ]
        }
      ]
    },
    {
      "cell_type": "markdown",
      "source": [
        "7.Given an array of integers, find the inversion of an array. Formally, two elements a[i] and a[j] form an inversion if a[i] > a[j] and i < j.\n",
        "N=5, arr[] = {2, 4, 1, 3, 5}\n",
        "Output: 3\n",
        "Explanation: (2,1) (4,1) and (4,3) forms an inversion in an array"
      ],
      "metadata": {
        "id": "t9CUKs96jg6g"
      }
    },
    {
      "cell_type": "code",
      "source": [
        "def merge_sort_and_count_inversions(arr):\n",
        "    if len(arr) <= 1:\n",
        "        return arr, 0\n",
        "\n",
        "    mid = len(arr) // 2\n",
        "    left, left_inversions = merge_sort_and_count_inversions(arr[:mid])\n",
        "    right, right_inversions = merge_sort_and_count_inversions(arr[mid:])\n",
        "    merged, merge_inversions = merge_and_count_inversions(left, right)\n",
        "\n",
        "    total_inversions = left_inversions + right_inversions + merge_inversions\n",
        "\n",
        "    return merged, total_inversions\n",
        "\n",
        "def merge_and_count_inversions(left, right):\n",
        "    merged = []\n",
        "    inversions = 0\n",
        "    i, j = 0, 0\n",
        "\n",
        "    while i < len(left) and j < len(right):\n",
        "        if left[i] <= right[j]:\n",
        "            merged.append(left[i])\n",
        "            i += 1\n",
        "        else:\n",
        "            merged.append(right[j])\n",
        "            j += 1\n",
        "            inversions += len(left) - i\n",
        "\n",
        "    merged.extend(left[i:])\n",
        "    merged.extend(right[j:])\n",
        "\n",
        "    return merged, inversions\n",
        "\n",
        "# Test case\n",
        "arr = [2, 4, 1, 3, 5]\n",
        "inversions_count = merge_sort_and_count_inversions(arr)[1]\n",
        "print(inversions_count)"
      ],
      "metadata": {
        "colab": {
          "base_uri": "https://localhost:8080/"
        },
        "id": "bEYKBhKEjdVI",
        "outputId": "2fa1d061-5e84-4781-e70d-554c594d49e6"
      },
      "execution_count": 9,
      "outputs": [
        {
          "output_type": "stream",
          "name": "stdout",
          "text": [
            "3\n"
          ]
        }
      ]
    },
    {
      "cell_type": "markdown",
      "source": [
        "8.Given three arrays sorted in non-decreasing order, print all common elements in these arrays.\n",
        "ar1[] = {1, 5, 10, 20, 40, 80}\n",
        "ar2[] = {6, 7, 20, 80, 100}\n",
        "ar3[] = {3, 4, 15, 20, 30, 70, 80, 120}\n",
        "Output: 20, 80"
      ],
      "metadata": {
        "id": "VS32Obt9jnUc"
      }
    },
    {
      "cell_type": "code",
      "source": [
        "def find_common_elements(arr1, arr2, arr3):\n",
        "    common_elements = []\n",
        "    i, j, k = 0, 0, 0\n",
        "\n",
        "    while i < len(arr1) and j < len(arr2) and k < len(arr3):\n",
        "        if arr1[i] == arr2[j] == arr3[k]:\n",
        "            common_elements.append(arr1[i])\n",
        "            i += 1\n",
        "            j += 1\n",
        "            k += 1\n",
        "        elif arr1[i] <= arr2[j] and arr1[i] <= arr3[k]:\n",
        "            i += 1\n",
        "        elif arr2[j] <= arr1[i] and arr2[j] <= arr3[k]:\n",
        "            j += 1\n",
        "        else:\n",
        "            k += 1\n",
        "\n",
        "    return common_elements\n",
        "\n",
        "# Test case\n",
        "ar1 = [1, 5, 10, 20, 40, 80]\n",
        "ar2 = [6, 7, 20, 80, 100]\n",
        "ar3 = [3, 4, 15, 20, 30, 70, 80, 120]\n",
        "\n",
        "result = find_common_elements(ar1, ar2, ar3)\n",
        "print(result)"
      ],
      "metadata": {
        "colab": {
          "base_uri": "https://localhost:8080/"
        },
        "id": "j8zzDP7ajkIE",
        "outputId": "eb91b2b0-bdc2-456e-9115-67cfab619842"
      },
      "execution_count": 11,
      "outputs": [
        {
          "output_type": "stream",
          "name": "stdout",
          "text": [
            "[20, 80]\n"
          ]
        }
      ]
    },
    {
      "cell_type": "code",
      "source": [],
      "metadata": {
        "id": "-GbvYbmIjueK"
      },
      "execution_count": null,
      "outputs": []
    },
    {
      "cell_type": "code",
      "source": [],
      "metadata": {
        "id": "xDlqltdUju78"
      },
      "execution_count": null,
      "outputs": []
    }
  ]
}